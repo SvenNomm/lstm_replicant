{
 "cells": [
  {
   "cell_type": "code",
   "execution_count": 54,
   "metadata": {},
   "outputs": [],
   "source": [
    "import pandas as pd\n",
    "import pickle as pkl\n",
    "\n",
    "import torch,ipdb\n",
    "import torch.autograd as autograd\n",
    "import torch.nn as nn\n",
    "import torch.nn.functional as F\n",
    "import torch.optim as optim\n",
    "from torch.autograd import Variable\n",
    "import torch.utils.data as data\n",
    "import numpy as np\n",
    "import platform\n",
    "import time\n",
    "import matplotlib.pyplot as plt\n",
    "import torchviz\n",
    "import hiddenlayer as hl\n",
    "from torcheval.metrics import R2Score\n",
    "from sklearn.metrics import mean_squared_error\n",
    "from torch.utils.data import TensorDataset, DataLoader\n",
    "from sklearn.model_selection import train_test_split"
   ]
  },
  {
   "cell_type": "code",
   "execution_count": null,
   "metadata": {
    "pycharm": {
     "is_executing": true
    }
   },
   "outputs": [],
   "source": [
    "print(f\"Python Platform: {platform.platform()}\")\n",
    "print(f\"PyTorch Version: {torch.__version__}\")\n",
    "print()\n",
    "\n",
    "has_gpu = torch.cuda.is_available()\n",
    "has_mps = getattr(torch,'has_mps',False)\n",
    "device = \"mps\" if getattr(torch,'has_mps',False) \\\n",
    "    else \"gpu\" if torch.cuda.is_available() else \"cpu\"\n",
    "print(f\"PyTorch Version: {torch.__version__}\")\n",
    "print(\"GPU is\", \"available\" if has_gpu else \"NOT AVAILABLE\")\n",
    "print(\"MPS (Apple Metal) is\", \"AVAILABLE\" if has_mps else \"NOT AVAILABLE\")\n",
    "print(f\"Target device is {device}\")\n",
    "!jupyter --version\n"
   ]
  },
  {
   "cell_type": "code",
   "execution_count": null,
   "metadata": {
    "pycharm": {
     "is_executing": true
    }
   },
   "outputs": [],
   "source": [
    "path = '/Users/svennomm/kohalikTree/Data/AIRSCS/wave/data_v2/processed_datasets/'\n",
    "\n",
    "with open(path + 'katse_3_4_training_data_04_19_2023_15_29_28.pkl', 'rb') as f:\n",
    "    initial_data_train, initial_data_valid, target_data_train, target_data_valid, valid_index = pkl.load(f)\n",
    "\n",
    "with open(path + 'katse_3_4_testing_data_04_19_2023_15_29_28.pkl', 'rb') as f:\n",
    "    input_data_test, target_data_test, test_data_indexes = pkl.load(f)"
   ]
  },
  {
   "cell_type": "code",
   "execution_count": 55,
   "metadata": {},
   "outputs": [
    {
     "name": "stdout",
     "output_type": "stream",
     "text": [
      "False\n"
     ]
    }
   ],
   "source": [
    "path = '/Users/svennomm/kohalikTree/Data/AIRSCS/wave/data_v2/alternative_processing/'\n",
    "\n",
    "with open(path + 'katse_03_winx_256_d_train.pkl', 'rb') as f:\n",
    "    data_1 = pkl.load(f)\n",
    "\n",
    "initial_data_train = data_1[0]\n",
    "initial_data_valid = data_1[1]\n",
    "target_data_train = data_1[2]\n",
    "target_data_valid = data_1[3]\n",
    "valid_index = data_1[4]\n",
    "\n",
    "with open(path + 'katse_03_winx_256_d_test.pkl', 'rb') as f:\n",
    "    data_1 = pkl.load(f)\n",
    "\n",
    "\n",
    "input_data_test = data_1[0]\n",
    "target_data_test = data_1[1]\n",
    "test_data_indexes = data_1[2]\n",
    "\n",
    "print(np.isnan(initial_data_train).any())"
   ]
  },
  {
   "cell_type": "code",
   "execution_count": 17,
   "metadata": {},
   "outputs": [],
   "source": [
    "X_train = initial_data_train.values\n",
    "y_train = target_data_train.values\n",
    "\n",
    "X_test = initial_data_valid.values\n",
    "y_test = target_data_valid.values\n",
    "\n",
    "X_valid = input_data_test.values\n",
    "y_valid = target_data_test.values"
   ]
  },
  {
   "cell_type": "code",
   "execution_count": 56,
   "metadata": {},
   "outputs": [],
   "source": [
    "X_train = initial_data_train\n",
    "y_train = target_data_train\n",
    "\n",
    "X_test = initial_data_valid\n",
    "y_test = target_data_valid\n",
    "\n",
    "X_valid = input_data_test\n",
    "y_valid = target_data_test"
   ]
  },
  {
   "cell_type": "code",
   "execution_count": 57,
   "outputs": [
    {
     "name": "stdout",
     "output_type": "stream",
     "text": [
      "<class 'numpy.float32'>\n"
     ]
    }
   ],
   "source": [
    "print(type(X_train[3, 5]))\n",
    "X_train, X_valid, y_train, y_valid = train_test_split(X_train, y_train, train_size = 0.7, test_size=0.3)"
   ],
   "metadata": {
    "collapsed": false
   }
  },
  {
   "cell_type": "code",
   "execution_count": 58,
   "metadata": {},
   "outputs": [],
   "source": [
    "device = torch.device('mps')\n",
    "def create_dataset(X_train, y_train):\n",
    "    X, y = [], []\n",
    "    nx, mx = X_train.shape\n",
    "    ny, my = y_train.shape\n",
    "    for i in range(0, nx):\n",
    "        ax = np.transpose(X_train[i,:]).reshape([mx, 1])\n",
    "        ay = np.transpose(y_train[i, :]).reshape([my, 1])\n",
    "        X.append(ax)\n",
    "        y.append(ay)\n",
    "    return torch.tensor(X).float(), torch.tensor(y).float()"
   ]
  },
  {
   "cell_type": "code",
   "execution_count": null,
   "outputs": [],
   "source": [],
   "metadata": {
    "collapsed": false
   }
  },
  {
   "cell_type": "code",
   "execution_count": 59,
   "metadata": {},
   "outputs": [],
   "source": [
    "X_train, y_train = create_dataset(X_train, y_train)\n",
    "X_test, y_test = create_dataset(X_test, y_test)\n",
    "X_valid, y_valid = create_dataset(X_valid, y_valid)\n",
    "\n",
    "X_train, y_train = X_train.to('mps'), y_train.to('mps')\n",
    "X_test, y_test = X_test.to('mps'), y_test.to('mps')\n",
    "X_valid, y_valid = X_valid.to('mps'), y_valid.to('mps')"
   ]
  },
  {
   "cell_type": "code",
   "execution_count": 60,
   "metadata": {},
   "outputs": [],
   "source": [
    "class AirModel(nn.Module):\n",
    "    def __init__(self):\n",
    "        super().__init__()\n",
    "        self.lstm = nn.LSTM(input_size=1, hidden_size=32, num_layers=2, batch_first=True)\n",
    "        #self.norm1 = torch.nn.LayerNorm([1, 16,16,1])\n",
    "        #self.lstm_1 = nn.LSTM(32, 32, 1)\n",
    "        #self.lstm_2 = nn.LSTM(8, 8, 1)\n",
    "        #self.lstm_3 = nn.LSTM(8, 8, 1)\n",
    "        #self.lstm_4 = nn.LSTM(8, 8, 1)\n",
    "        self.linear = nn.Linear(32, 1)\n",
    "\n",
    "\n",
    "    def forward(self, x):\n",
    "        x, _ = self.lstm(x)\n",
    "        #x, _ = self.norm1(x)\n",
    "        #x, _ = self.lstm_1(x)\n",
    "        #x, _ = self.lstm_2(x)\n",
    "        #x, _ = self.lstm_3(x)\n",
    "        #x, _ = self.lstm_4(x)\n",
    "        x = self.linear(x)\n",
    "        return x"
   ]
  },
  {
   "cell_type": "code",
   "execution_count": 61,
   "metadata": {},
   "outputs": [
    {
     "name": "stdout",
     "output_type": "stream",
     "text": [
      "<class 'torch.Tensor'> torch.Size([1948, 69, 1]) <class 'torch.Tensor'> torch.Size([1948, 69, 1])\n"
     ]
    }
   ],
   "source": [
    "model = AirModel()\n",
    "model.to('mps')\n",
    "optimizer = optim.Adam(model.parameters(), lr=1e-4, weight_decay=1e-5)\n",
    "loss_fn = nn.MSELoss()\n",
    "print(type(X_train), torch.Tensor.size(X_train), type(y_train), torch.Tensor.size(y_train))\n",
    "loader = data.DataLoader(data.TensorDataset(X_train, y_train), shuffle=True, batch_size=200)\n",
    "metric = R2Score()\n",
    "\n",
    "rmse_train = []\n",
    "rmse_test = []"
   ]
  },
  {
   "cell_type": "code",
   "execution_count": 22,
   "metadata": {},
   "outputs": [],
   "source": [
    "n_epochs = 50\n",
    "\n",
    "for epoch in range(n_epochs):\n",
    "    start = time.time()\n",
    "    model.train()\n",
    "    for X_batch, y_batch in loader:\n",
    "        y_pred = model(X_batch)\n",
    "        loss = loss_fn(y_pred, y_batch)\n",
    "        optimizer.zero_grad()\n",
    "        loss.backward()\n",
    "        optimizer.step()\n",
    "    # Validation\n",
    "    if epoch % 100 != 0:\n",
    "        continue\n",
    "    model.eval()\n",
    "    with torch.no_grad():\n",
    "        y_pred = model(X_train)\n",
    "        #train_rmse = np.sqrt(loss_fn(y_pred, y_train))\n",
    "        train_rmse = torch.sqrt(loss_fn(y_pred, y_train))\n",
    "        train_rmse = train_rmse.detach().cpu().numpy()\n",
    "        rmse_train.append(train_rmse)\n",
    "        y_pred = model(X_test)\n",
    "        #test_rmse = np.sqrt(loss_fn(y_prd, y_test))\n",
    "        test_rmse = torch.sqrt(loss_fn(y_pred, y_test))\n",
    "        test_rmse = test_rmse.detach().cpu().numpy()\n",
    "        rmse_test.append(test_rmse)\n",
    "\n",
    "        #metric.update(y_pred, y_train)\n",
    "        #train_r2 = metric.compute()\n",
    "        #print(train_r2)\n",
    "\n",
    "        #metric.update(y_pred, y_test)\n",
    "        #test_r2 = metric.compute()\n",
    "        #print(test_r2)\n",
    "\n",
    "    print(\"Epoch %d: train RMSE %.4f, test RMSE %.4f\" % (epoch, train_rmse, test_rmse))\n",
    "    end = time.time()\n",
    "    print(end - start)"
   ]
  },
  {
   "cell_type": "code",
   "execution_count": null,
   "metadata": {},
   "outputs": [],
   "source": []
  }
 ],
 "metadata": {
  "kernelspec": {
   "display_name": "Python 3 (ipykernel)",
   "language": "python",
   "name": "python3"
  },
  "language_info": {
   "codemirror_mode": {
    "name": "ipython",
    "version": 3
   },
   "file_extension": ".py",
   "mimetype": "text/x-python",
   "name": "python",
   "nbconvert_exporter": "python",
   "pygments_lexer": "ipython3",
   "version": "3.10.9"
  },
  "vscode": {
   "interpreter": {
    "hash": "a2fb422186edb27ff8018a5bde617c9d503cc145bef9beba194bd3f75c380ebe"
   }
  }
 },
 "nbformat": 4,
 "nbformat_minor": 1
}
