{
 "cells": [
  {
   "cell_type": "code",
   "execution_count": 1,
   "metadata": {},
   "outputs": [],
   "source": [
    "import pandas as pd\n",
    "import pickle as pkl\n",
    "\n",
    "import torch,ipdb\n",
    "import torch.autograd as autograd\n",
    "import torch.nn as nn\n",
    "import torch.nn.functional as F\n",
    "import torch.optim as optim\n",
    "from torch.autograd import Variable\n",
    "import torch.utils.data as data\n",
    "import numpy as np\n",
    "import platform\n",
    "import time\n",
    "import matplotlib.pyplot as plt\n",
    "import torchviz\n",
    "import hiddenlayer as hl\n",
    "from torcheval.metrics import R2Score\n",
    "from sklearn.metrics import mean_squared_error\n",
    "from torch.utils.data import TensorDataset, DataLoader"
   ]
  },
  {
   "cell_type": "code",
   "execution_count": 2,
   "metadata": {},
   "outputs": [
    {
     "name": "stdout",
     "output_type": "stream",
     "text": [
      "Python Platform: macOS-13.3.1-arm64-arm-64bit\n",
      "PyTorch Version: 1.13.1\n",
      "\n",
      "PyTorch Version: 1.13.1\n",
      "GPU is NOT AVAILABLE\n",
      "MPS (Apple Metal) is AVAILABLE\n",
      "Target device is mps\n"
     ]
    }
   ],
   "source": [
    "print(f\"Python Platform: {platform.platform()}\")\n",
    "print(f\"PyTorch Version: {torch.__version__}\")\n",
    "print()\n",
    "\n",
    "has_gpu = torch.cuda.is_available()\n",
    "has_mps = getattr(torch,'has_mps',False)\n",
    "device = \"mps\" if getattr(torch,'has_mps',False) \\\n",
    "    else \"gpu\" if torch.cuda.is_available() else \"cpu\"\n",
    "print(f\"PyTorch Version: {torch.__version__}\")\n",
    "print(\"GPU is\", \"available\" if has_gpu else \"NOT AVAILABLE\")\n",
    "print(\"MPS (Apple Metal) is\", \"AVAILABLE\" if has_mps else \"NOT AVAILABLE\")\n",
    "print(f\"Target device is {device}\")"
   ]
  },
  {
   "cell_type": "code",
   "execution_count": 6,
   "metadata": {},
   "outputs": [],
   "source": [
    "path = '/Users/svennomm/kohalikTree/Data/AIRSCS/wave/data_v2/processed_datasets/'\n",
    "\n",
    "with open(path + 'katse_3_4_training_data_04_19_2023_15_29_28.pkl', 'rb') as f:\n",
    "    initial_data_train, initial_data_valid, target_data_train, target_data_valid, valid_index = pkl.load(f)\n",
    "\n",
    "with open(path + 'katse_3_4_testing_data_04_19_2023_15_29_28.pkl', 'rb') as f:\n",
    "    input_data_test, target_data_test, test_data_indexes = pkl.load(f)"
   ]
  },
  {
   "cell_type": "code",
   "execution_count": 3,
   "metadata": {},
   "outputs": [],
   "source": [
    "path = '/Users/svennomm/kohalikTree/Data/AIRSCS/wave/data_v2/alternative_processing/'\n",
    "\n",
    "with open(path + 'katse_03_winx_256_ldn_train.pkl', 'rb') as f:\n",
    "    data_1 = pkl.load(f)\n",
    "\n",
    "initial_data_train = data_1[0]\n",
    "initial_data_valid = data_1[1]\n",
    "target_data_train = data_1[2]\n",
    "target_data_valid = data_1[3]\n",
    "valid_index = data_1[4]\n",
    "\n",
    "with open(path + 'katse_03_winx_256_ldn_test.pkl', 'rb') as f:\n",
    "    data_1 = pkl.load(f)\n",
    "\n",
    "\n",
    "input_data_test = data_1[0]\n",
    "target_data_test = data_1[1]\n",
    "test_data_indexes = data_1[2]"
   ]
  },
  {
   "cell_type": "code",
   "execution_count": 4,
   "metadata": {},
   "outputs": [
    {
     "ename": "AttributeError",
     "evalue": "'numpy.ndarray' object has no attribute 'values'",
     "output_type": "error",
     "traceback": [
      "\u001B[0;31m---------------------------------------------------------------------------\u001B[0m",
      "\u001B[0;31mAttributeError\u001B[0m                            Traceback (most recent call last)",
      "Cell \u001B[0;32mIn[4], line 1\u001B[0m\n\u001B[0;32m----> 1\u001B[0m X_train \u001B[38;5;241m=\u001B[39m \u001B[43minitial_data_train\u001B[49m\u001B[38;5;241;43m.\u001B[39;49m\u001B[43mvalues\u001B[49m\n\u001B[1;32m      2\u001B[0m y_train \u001B[38;5;241m=\u001B[39m target_data_train\u001B[38;5;241m.\u001B[39mvalues\n\u001B[1;32m      4\u001B[0m X_test \u001B[38;5;241m=\u001B[39m initial_data_valid\u001B[38;5;241m.\u001B[39mvalues\n",
      "\u001B[0;31mAttributeError\u001B[0m: 'numpy.ndarray' object has no attribute 'values'"
     ]
    }
   ],
   "source": [
    "X_train = initial_data_train.values\n",
    "y_train = target_data_train.values\n",
    "\n",
    "X_test = initial_data_valid.values\n",
    "y_test = target_data_valid.values\n",
    "\n",
    "X_valid = input_data_test.values\n",
    "y_valid = target_data_test.values"
   ]
  },
  {
   "cell_type": "code",
   "execution_count": 5,
   "metadata": {},
   "outputs": [],
   "source": [
    "X_train = initial_data_train\n",
    "y_train = target_data_train\n",
    "\n",
    "X_test = initial_data_valid\n",
    "y_test = target_data_valid\n",
    "\n",
    "X_valid = input_data_test\n",
    "y_valid = target_data_test"
   ]
  },
  {
   "cell_type": "code",
   "execution_count": 6,
   "metadata": {},
   "outputs": [],
   "source": [
    "device = torch.device('mps')\n",
    "def create_dataset(X_train, y_train):\n",
    "    X, y = [], []\n",
    "    nx, mx = X_train.shape\n",
    "    ny, my = y_train.shape\n",
    "    for i in range(0, nx):\n",
    "        ax = np.transpose(X_train[i,:]).reshape([mx, 1])\n",
    "        ay = np.transpose(y_train[i, :]).reshape([my, 1])\n",
    "        X.append(ax)\n",
    "        y.append(ay)\n",
    "    return torch.tensor(X).float(), torch.tensor(y).float()"
   ]
  },
  {
   "cell_type": "code",
   "execution_count": 7,
   "metadata": {},
   "outputs": [
    {
     "name": "stderr",
     "output_type": "stream",
     "text": [
      "/var/folders/kg/9zrnl7rn7vv5hnnypyzdh4dw0000gn/T/ipykernel_94402/3250229666.py:11: UserWarning: Creating a tensor from a list of numpy.ndarrays is extremely slow. Please consider converting the list to a single numpy.ndarray with numpy.array() before converting to a tensor. (Triggered internally at /Users/runner/work/_temp/anaconda/conda-bld/pytorch_1670525498485/work/torch/csrc/utils/tensor_new.cpp:233.)\n",
      "  return torch.tensor(X).float(), torch.tensor(y).float()\n"
     ]
    }
   ],
   "source": [
    "X_train, y_train = create_dataset(X_train, y_train)\n",
    "X_test, y_test = create_dataset(X_test, y_test)\n",
    "X_valid, y_valid = create_dataset(X_valid, y_valid)\n",
    "\n",
    "X_train, y_train = X_train.to('mps'), y_train.to('mps')\n",
    "X_test, y_test = X_test.to('mps'), y_test.to('mps')\n",
    "X_valid, y_valid = X_valid.to('mps'), y_valid.to('mps')"
   ]
  },
  {
   "cell_type": "code",
   "execution_count": 8,
   "metadata": {},
   "outputs": [],
   "source": [
    "class AirModel(nn.Module):\n",
    "    def __init__(self):\n",
    "        super().__init__()\n",
    "        self.lstm = nn.LSTM(input_size=1, hidden_size=32, num_layers=2, batch_first=True)\n",
    "        #self.norm1 = torch.nn.LayerNorm([1, 16,16,1])\n",
    "        #self.lstm_1 = nn.LSTM(32, 32, 1)\n",
    "        #self.lstm_2 = nn.LSTM(8, 8, 1)\n",
    "        #self.lstm_3 = nn.LSTM(8, 8, 1)\n",
    "        #self.lstm_4 = nn.LSTM(8, 8, 1)\n",
    "        self.linear = nn.Linear(32, 1)\n",
    "\n",
    "\n",
    "    def forward(self, x):\n",
    "        x, _ = self.lstm(x)\n",
    "        #x, _ = self.norm1(x)\n",
    "        #x, _ = self.lstm_1(x)\n",
    "        #x, _ = self.lstm_2(x)\n",
    "        #x, _ = self.lstm_3(x)\n",
    "        #x, _ = self.lstm_4(x)\n",
    "        x = self.linear(x)\n",
    "        return x"
   ]
  },
  {
   "cell_type": "code",
   "execution_count": 9,
   "metadata": {},
   "outputs": [],
   "source": [
    "model = AirModel()\n",
    "model.to('mps')\n",
    "optimizer = optim.Adam(model.parameters(), lr=1e-4, weight_decay=1e-5)\n",
    "loss_fn = nn.MSELoss()\n",
    "loader = data.DataLoader(data.TensorDataset(X_train, y_train), shuffle=True, batch_size=200)\n",
    "metric = R2Score()\n",
    "\n",
    "rmse_train = []\n",
    "rmse_test = []"
   ]
  },
  {
   "cell_type": "code",
   "execution_count": 14,
   "metadata": {
    "pycharm": {
     "is_executing": true
    }
   },
   "outputs": [
    {
     "ename": "",
     "evalue": "",
     "output_type": "error",
     "traceback": [
      "\u001B[1;31mThe Kernel crashed while executing code in the the current cell or a previous cell. Please review the code in the cell(s) to identify a possible cause of the failure. Click <a href='https://aka.ms/vscodeJupyterKernelCrash'>here</a> for more info. View Jupyter <a href='command:jupyter.viewOutput'>log</a> for further details."
     ]
    },
    {
     "ename": "",
     "evalue": "",
     "output_type": "error",
     "traceback": [
      "\u001B[1;31mCanceled future for execute_request message before replies were done"
     ]
    }
   ],
   "source": [
    "n_epochs = 50\n",
    "\n",
    "for epoch in range(n_epochs):\n",
    "    start = time.time()\n",
    "    model.train()\n",
    "    for X_batch, y_batch in loader:\n",
    "        y_pred = model(X_batch)\n",
    "        loss = loss_fn(y_pred, y_batch)\n",
    "        optimizer.zero_grad()\n",
    "        loss.backward()\n",
    "        optimizer.step()\n",
    "    # Validation\n",
    "    if epoch % 100 != 0:\n",
    "        continue\n",
    "    model.eval()\n",
    "    with torch.no_grad():\n",
    "        y_pred = model(X_train)\n",
    "        #train_rmse = np.sqrt(loss_fn(y_pred, y_train))\n",
    "        train_rmse = torch.sqrt(loss_fn(y_pred, y_train))\n",
    "        train_rmse = train_rmse.detach().cpu().numpy()\n",
    "        rmse_train.append(train_rmse)\n",
    "        y_pred = model(X_test)\n",
    "        #test_rmse = np.sqrt(loss_fn(y_prd, y_test))\n",
    "        test_rmse = torch.sqrt(loss_fn(y_pred, y_test))\n",
    "        test_rmse = test_rmse.detach().cpu().numpy()\n",
    "        rmse_test.append(test_rmse)\n",
    "\n",
    "        #metric.update(y_pred, y_train)\n",
    "        #train_r2 = metric.compute()\n",
    "        #print(train_r2)\n",
    "\n",
    "        #metric.update(y_pred, y_test)\n",
    "        #test_r2 = metric.compute()\n",
    "        #print(test_r2)\n",
    "\n",
    "    print(\"Epoch %d: train RMSE %.4f, test RMSE %.4f\" % (epoch, train_rmse, test_rmse))\n",
    "    end = time.time()\n",
    "    print(end - start)"
   ]
  },
  {
   "cell_type": "code",
   "execution_count": null,
   "metadata": {},
   "outputs": [],
   "source": []
  }
 ],
 "metadata": {
  "kernelspec": {
   "display_name": "Python 3 (ipykernel)",
   "language": "python",
   "name": "python3"
  },
  "language_info": {
   "codemirror_mode": {
    "name": "ipython",
    "version": 3
   },
   "file_extension": ".py",
   "mimetype": "text/x-python",
   "name": "python",
   "nbconvert_exporter": "python",
   "pygments_lexer": "ipython3",
   "version": "3.10.9"
  },
  "vscode": {
   "interpreter": {
    "hash": "a2fb422186edb27ff8018a5bde617c9d503cc145bef9beba194bd3f75c380ebe"
   }
  }
 },
 "nbformat": 4,
 "nbformat_minor": 1
}
